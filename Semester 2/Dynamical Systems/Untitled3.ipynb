{
 "cells": [
  {
   "cell_type": "code",
   "execution_count": 1,
   "metadata": {},
   "outputs": [
    {
     "data": {
      "text/html": [
       "<html><script type=\"math/tex; mode=display\">\\newcommand{\\Bold}[1]{\\mathbf{#1}}{\\left(K_{2} \\cos\\left(\\frac{1}{2} \\, x\\right) + K_{1} \\sin\\left(\\frac{1}{2} \\, x\\right)\\right)} e^{\\left(-x\\right)}</script></html>"
      ],
      "text/latex": [
       "$$\\newcommand{\\Bold}[1]{\\mathbf{#1}}{\\left(K_{2} \\cos\\left(\\frac{1}{2} \\, x\\right) + K_{1} \\sin\\left(\\frac{1}{2} \\, x\\right)\\right)} e^{\\left(-x\\right)}$$"
      ],
      "text/plain": [
       "(_K2*cos(1/2*x) + _K1*sin(1/2*x))*e^(-x)"
      ]
     },
     "metadata": {},
     "output_type": "display_data"
    }
   ],
   "source": [
    "x = var('x')\n",
    "f = function('f')(x)\n",
    "eq = 4 * diff(f, x, 2) + 8 * diff(f, x) + 5 * f\n",
    "sol = desolve(eq, f)\n",
    "show(sol)"
   ]
  },
  {
   "cell_type": "code",
   "execution_count": null,
   "metadata": {},
   "outputs": [],
   "source": []
  }
 ],
 "metadata": {
  "kernelspec": {
   "display_name": "SageMath 9.3",
   "language": "sage",
   "name": "sagemath"
  },
  "language_info": {
   "codemirror_mode": {
    "name": "ipython",
    "version": 3
   },
   "file_extension": ".py",
   "mimetype": "text/x-python",
   "name": "python",
   "nbconvert_exporter": "python",
   "pygments_lexer": "ipython3",
   "version": "3.7.10"
  }
 },
 "nbformat": 4,
 "nbformat_minor": 4
}
