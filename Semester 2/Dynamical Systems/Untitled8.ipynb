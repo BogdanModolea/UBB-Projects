{
 "cells": [
  {
   "cell_type": "code",
   "execution_count": 28,
   "metadata": {},
   "outputs": [
    {
     "data": {
      "text/html": [
       "<html><script type=\"math/tex; mode=display\">\\newcommand{\\Bold}[1]{\\mathbf{#1}}\\left[\\left[x = 0, y = 0\\right], \\left[x = 2, y = 0\\right], \\left[x = 1, y = 1\\right]\\right]</script></html>"
      ],
      "text/latex": [
       "$$\\newcommand{\\Bold}[1]{\\mathbf{#1}}\\left[\\left[x = 0, y = 0\\right], \\left[x = 2, y = 0\\right], \\left[x = 1, y = 1\\right]\\right]$$"
      ],
      "text/plain": [
       "[[x == 0, y == 0], [x == 2, y == 0], [x == 1, y == 1]]"
      ]
     },
     "metadata": {},
     "output_type": "display_data"
    },
    {
     "name": "stdout",
     "output_type": "stream",
     "text": [
      "\n"
     ]
    },
    {
     "data": {
      "text/html": [
       "<html><script type=\"math/tex; mode=display\">\\newcommand{\\Bold}[1]{\\mathbf{#1}}\\left(\\begin{array}{rr}\n",
       "-2 \\, x - y + 2 & -x \\\\\n",
       "y & x - 1\n",
       "\\end{array}\\right)</script></html>"
      ],
      "text/latex": [
       "$$\\newcommand{\\Bold}[1]{\\mathbf{#1}}\\left(\\begin{array}{rr}\n",
       "-2 \\, x - y + 2 & -x \\\\\n",
       "y & x - 1\n",
       "\\end{array}\\right)$$"
      ],
      "text/plain": [
       "[-2*x - y + 2           -x]\n",
       "[           y        x - 1]"
      ]
     },
     "metadata": {},
     "output_type": "display_data"
    },
    {
     "name": "stdout",
     "output_type": "stream",
     "text": [
      "\n"
     ]
    },
    {
     "data": {
      "text/html": [
       "<html><script type=\"math/tex; mode=display\">\\newcommand{\\Bold}[1]{\\mathbf{#1}}\\left(\\begin{array}{rr}\n",
       "2 & 0 \\\\\n",
       "0 & -1\n",
       "\\end{array}\\right)</script></html>"
      ],
      "text/latex": [
       "$$\\newcommand{\\Bold}[1]{\\mathbf{#1}}\\left(\\begin{array}{rr}\n",
       "2 & 0 \\\\\n",
       "0 & -1\n",
       "\\end{array}\\right)$$"
      ],
      "text/plain": [
       "[ 2  0]\n",
       "[ 0 -1]"
      ]
     },
     "metadata": {},
     "output_type": "display_data"
    },
    {
     "data": {
      "text/html": [
       "<html><script type=\"math/tex; mode=display\">\\newcommand{\\Bold}[1]{\\mathbf{#1}}\\left(\\begin{array}{rr}\n",
       "-2 & -2 \\\\\n",
       "0 & 1\n",
       "\\end{array}\\right)</script></html>"
      ],
      "text/latex": [
       "$$\\newcommand{\\Bold}[1]{\\mathbf{#1}}\\left(\\begin{array}{rr}\n",
       "-2 & -2 \\\\\n",
       "0 & 1\n",
       "\\end{array}\\right)$$"
      ],
      "text/plain": [
       "[-2 -2]\n",
       "[ 0  1]"
      ]
     },
     "metadata": {},
     "output_type": "display_data"
    },
    {
     "data": {
      "text/html": [
       "<html><script type=\"math/tex; mode=display\">\\newcommand{\\Bold}[1]{\\mathbf{#1}}\\left(\\begin{array}{rr}\n",
       "-1 & -1 \\\\\n",
       "1 & 0\n",
       "\\end{array}\\right)</script></html>"
      ],
      "text/latex": [
       "$$\\newcommand{\\Bold}[1]{\\mathbf{#1}}\\left(\\begin{array}{rr}\n",
       "-1 & -1 \\\\\n",
       "1 & 0\n",
       "\\end{array}\\right)$$"
      ],
      "text/plain": [
       "[-1 -1]\n",
       "[ 1  0]"
      ]
     },
     "metadata": {},
     "output_type": "display_data"
    }
   ],
   "source": [
    "x, y = var('x y')\n",
    "X = 2*x - x**2 - x * y\n",
    "Y = -y + x*y\n",
    "ans = solve([X, Y], x, y)\n",
    "show(ans)\n",
    "print()\n",
    "\n",
    "f = (2*x - x**2 - x * y, -y + x*y)\n",
    "jac = jacobian(f, (x,y))\n",
    "show(jac)\n",
    "print()\n",
    "\n",
    "for each in ans:\n",
    "    A = jac.subs(x = each[0].rhs(), y = each[1].rhs())\n",
    "    show(A)"
   ]
  },
  {
   "cell_type": "code",
   "execution_count": 6,
   "metadata": {},
   "outputs": [
    {
     "data": {
      "text/html": [
       "<html><script type=\"math/tex; mode=display\">\\newcommand{\\Bold}[1]{\\mathbf{#1}}e^{t}</script></html>"
      ],
      "text/latex": [
       "$$\\newcommand{\\Bold}[1]{\\mathbf{#1}}e^{t}$$"
      ],
      "text/plain": [
       "e^t"
      ]
     },
     "metadata": {},
     "output_type": "display_data"
    }
   ],
   "source": [
    "t = var('t')\n",
    "x = function('x')(t)\n",
    "de = diff(x, t) == x\n",
    "show(desolve(de, x, ics=[0,1]))"
   ]
  },
  {
   "cell_type": "code",
   "execution_count": null,
   "metadata": {},
   "outputs": [],
   "source": []
  }
 ],
 "metadata": {
  "kernelspec": {
   "display_name": "SageMath 9.3",
   "language": "sage",
   "name": "sagemath"
  },
  "language_info": {
   "codemirror_mode": {
    "name": "ipython",
    "version": 3
   },
   "file_extension": ".py",
   "mimetype": "text/x-python",
   "name": "python",
   "nbconvert_exporter": "python",
   "pygments_lexer": "ipython3",
   "version": "3.7.10"
  }
 },
 "nbformat": 4,
 "nbformat_minor": 4
}
